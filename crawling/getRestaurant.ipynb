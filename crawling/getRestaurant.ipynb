{
 "cells": [
  {
   "cell_type": "code",
   "execution_count": 5,
   "metadata": {},
   "outputs": [],
   "source": [
    "from selenium import webdriver\n",
    "from selenium.webdriver.common.by import By\n",
    "from selenium.webdriver.common.keys import Keys\n",
    "from selenium.webdriver.chrome.service import Service\n",
    "from webdriver_manager.chrome import ChromeDriverManager\n",
    "import time\n",
    "\n",
    "from openpyxl import Workbook"
   ]
  },
  {
   "cell_type": "code",
   "execution_count": 6,
   "metadata": {},
   "outputs": [],
   "source": [
    "driver = webdriver.Chrome()\n",
    "url = \"https://www.naver.com/\"\n",
    "driver.get(url)"
   ]
  },
  {
   "cell_type": "code",
   "execution_count": 7,
   "metadata": {},
   "outputs": [],
   "source": [
    "def returnText(selector):\n",
    "    try:\n",
    "        text = driver.find_element(By.CSS_SELECTOR, selector).text\n",
    "    except:\n",
    "        text = None\n",
    "    return(text)"
   ]
  },
  {
   "cell_type": "code",
   "execution_count": 8,
   "metadata": {},
   "outputs": [],
   "source": [
    "searchBox = driver.find_element(By.XPATH,'//*[@id=\"query\"]')\n",
    "searchBox.send_keys(\"식당\")\n",
    "time.sleep(1)\n",
    "searchBox.send_keys(Keys.RETURN)\n",
    "map = driver.find_element(By.XPATH,'//*[@id=\"lnb\"]/div[1]/div/div[1]/div/div[1]/div[1]/a').click()\n",
    "time.sleep(1)"
   ]
  },
  {
   "cell_type": "code",
   "execution_count": 9,
   "metadata": {},
   "outputs": [],
   "source": [
    "driver.switch_to.window(driver.window_handles[-1])\n",
    "time.sleep(1)\n",
    "iFrame = driver.find_element(By.ID,'searchIframe')\n",
    "driver.switch_to.frame(iFrame)\n",
    "time.sleep(0.3)\n"
   ]
  },
  {
   "cell_type": "code",
   "execution_count": 10,
   "metadata": {},
   "outputs": [],
   "source": [
    "restaurantGroup = driver.find_element(By.XPATH,'//*[@id=\"_pcmap_list_scroll_container\"]')\n",
    "\n",
    "last_height = driver.execute_script(\"return arguments[0].scrollTop;\", restaurantGroup)\n",
    "while True:\n",
    "    driver.execute_script(\"arguments[0].scrollBy(0, 1000)\", restaurantGroup)\n",
    "    new_height = driver.execute_script(\"return arguments[0].scrollTop;\", restaurantGroup)\n",
    "    if new_height == last_height:\n",
    "        break\n",
    "    last_height = new_height\n",
    "    time.sleep(0.1)"
   ]
  },
  {
   "cell_type": "code",
   "execution_count": 11,
   "metadata": {},
   "outputs": [
    {
     "name": "stdout",
     "output_type": "stream",
     "text": [
      "{'name': '해물상회 성남점', 'tags': '해물,생선요리', 'address': '경기 성남시 중원구 마지로 54 1층', 'callNumber': '0507-1468-9093', 'imgSrc': 'https://search.pstatic.net/common/?autoRotate=true&type=w560_sharpen&src=https%3A%2F%2Fldb-phinf.pstatic.net%2F20230516_14%2F16842239510086lR2F_JPEG%2FIMG_1583.jpeg', 'menu1': None, 'price1': None, 'menu2': None, 'price2': None, 'menu3': None, 'price3': None}\n",
      "{'name': '모란술집 캠핑포차 불멍 성남동점', 'tags': '요리주점', 'address': '경기 성남시 중원구 성남대로1140번길 10-1 지하1층 모란술집 캠핑포차 불멍 성남동점', 'callNumber': '0507-1429-1438', 'imgSrc': 'none', 'menu1': None, 'price1': None, 'menu2': None, 'price2': None, 'menu3': None, 'price3': None}\n",
      "{'name': '순대만찬 성남본점', 'tags': '순대,순댓국', 'address': '경기 성남시 중원구 광명로 89 성남센트럴푸르지오시티 117호, 118호', 'callNumber': '0507-1410-0977', 'imgSrc': 'https://search.pstatic.net/common/?autoRotate=true&type=w560_sharpen&src=https%3A%2F%2Fldb-phinf.pstatic.net%2F20240424_226%2F1713921236151j4DwV_JPEG%2FDSC05907.jpg', 'menu1': None, 'price1': None, 'menu2': None, 'price2': None, 'menu3': None, 'price3': None}\n",
      "{'name': '곱분이곱창 모란수진역점', 'tags': '곱창,막창,양', 'address': '경기 성남시 중원구 광명로 89 상가 140호', 'callNumber': '031-756-1358', 'imgSrc': 'https://search.pstatic.net/common/?autoRotate=true&type=w560_sharpen&src=https%3A%2F%2Fldb-phinf.pstatic.net%2F20230625_3%2F1687670129547uUnDG_JPEG%2F5.jpg', 'menu1': None, 'price1': None, 'menu2': None, 'price2': None, 'menu3': None, 'price3': None}\n"
     ]
    },
    {
     "ename": "NoSuchWindowException",
     "evalue": "Message: no such window: target window already closed\nfrom unknown error: web view not found\n  (Session info: chrome=125.0.6422.113)\nStacktrace:\n0   chromedriver                        0x00000001047ea4c8 chromedriver + 4302024\n1   chromedriver                        0x00000001047e2e10 chromedriver + 4271632\n2   chromedriver                        0x000000010441419c chromedriver + 278940\n3   chromedriver                        0x00000001043ef474 chromedriver + 128116\n4   chromedriver                        0x000000010447b394 chromedriver + 701332\n5   chromedriver                        0x000000010448e4e4 chromedriver + 779492\n6   chromedriver                        0x000000010444b004 chromedriver + 503812\n7   chromedriver                        0x000000010444b9ec chromedriver + 506348\n8   chromedriver                        0x00000001047b2510 chromedriver + 4072720\n9   chromedriver                        0x00000001047b6fbc chromedriver + 4091836\n10  chromedriver                        0x0000000104799754 chromedriver + 3970900\n11  chromedriver                        0x00000001047b78a4 chromedriver + 4094116\n12  chromedriver                        0x000000010478c6d4 chromedriver + 3917524\n13  chromedriver                        0x00000001047d4b08 chromedriver + 4213512\n14  chromedriver                        0x00000001047d4c84 chromedriver + 4213892\n15  chromedriver                        0x00000001047e2a08 chromedriver + 4270600\n16  libsystem_pthread.dylib             0x000000018d296034 _pthread_start + 136\n17  libsystem_pthread.dylib             0x000000018d290e3c thread_start + 8\n",
     "output_type": "error",
     "traceback": [
      "\u001b[0;31m---------------------------------------------------------------------------\u001b[0m",
      "\u001b[0;31mKeyboardInterrupt\u001b[0m                         Traceback (most recent call last)",
      "Cell \u001b[0;32mIn[11], line 28\u001b[0m\n\u001b[1;32m     27\u001b[0m driver\u001b[38;5;241m.\u001b[39mexecute_script(\u001b[38;5;124m\"\u001b[39m\u001b[38;5;124marguments[0].scrollBy(0, 500)\u001b[39m\u001b[38;5;124m\"\u001b[39m, page)\n\u001b[0;32m---> 28\u001b[0m \u001b[43mtime\u001b[49m\u001b[38;5;241;43m.\u001b[39;49m\u001b[43msleep\u001b[49m\u001b[43m(\u001b[49m\u001b[38;5;241;43m2\u001b[39;49m\u001b[43m)\u001b[49m\n\u001b[1;32m     29\u001b[0m restaurantMenu1 \u001b[38;5;241m=\u001b[39m returnText(\u001b[38;5;124m'\u001b[39m\u001b[38;5;124m#app-root > div > div > div > div:nth-child(6) > div > div:nth-child(3) > div.place_section_content > ul > li:nth-child(1) > div > div.Fi0vA > div > div > a.place_bluelink.ihmWt\u001b[39m\u001b[38;5;124m'\u001b[39m)\n",
      "\u001b[0;31mKeyboardInterrupt\u001b[0m: ",
      "\nDuring handling of the above exception, another exception occurred:\n",
      "\u001b[0;31mNoSuchWindowException\u001b[0m                     Traceback (most recent call last)",
      "Cell \u001b[0;32mIn[11], line 52\u001b[0m\n\u001b[1;32m     50\u001b[0m     i\u001b[38;5;241m+\u001b[39m\u001b[38;5;241m=\u001b[39m\u001b[38;5;241m1\u001b[39m\n\u001b[1;32m     51\u001b[0m \u001b[38;5;28;01mexcept\u001b[39;00m:\n\u001b[0;32m---> 52\u001b[0m     nextButton \u001b[38;5;241m=\u001b[39m \u001b[43mdriver\u001b[49m\u001b[38;5;241;43m.\u001b[39;49m\u001b[43mfind_element\u001b[49m\u001b[43m(\u001b[49m\u001b[43mBy\u001b[49m\u001b[38;5;241;43m.\u001b[39;49m\u001b[43mXPATH\u001b[49m\u001b[43m,\u001b[49m\u001b[38;5;124;43m'\u001b[39;49m\u001b[38;5;124;43m//*[@id=\u001b[39;49m\u001b[38;5;124;43m\"\u001b[39;49m\u001b[38;5;124;43mapp-root\u001b[39;49m\u001b[38;5;124;43m\"\u001b[39;49m\u001b[38;5;124;43m]/div/div[2]/div[2]/a[6]\u001b[39;49m\u001b[38;5;124;43m'\u001b[39;49m\u001b[43m)\u001b[49m\n\u001b[1;32m     53\u001b[0m     nextButton\u001b[38;5;241m.\u001b[39mclick()\n\u001b[1;32m     54\u001b[0m     time\u001b[38;5;241m.\u001b[39msleep(\u001b[38;5;241m1\u001b[39m)\n",
      "File \u001b[0;32m/opt/homebrew/lib/python3.12/site-packages/selenium/webdriver/remote/webdriver.py:741\u001b[0m, in \u001b[0;36mWebDriver.find_element\u001b[0;34m(self, by, value)\u001b[0m\n\u001b[1;32m    738\u001b[0m     by \u001b[38;5;241m=\u001b[39m By\u001b[38;5;241m.\u001b[39mCSS_SELECTOR\n\u001b[1;32m    739\u001b[0m     value \u001b[38;5;241m=\u001b[39m \u001b[38;5;124mf\u001b[39m\u001b[38;5;124m'\u001b[39m\u001b[38;5;124m[name=\u001b[39m\u001b[38;5;124m\"\u001b[39m\u001b[38;5;132;01m{\u001b[39;00mvalue\u001b[38;5;132;01m}\u001b[39;00m\u001b[38;5;124m\"\u001b[39m\u001b[38;5;124m]\u001b[39m\u001b[38;5;124m'\u001b[39m\n\u001b[0;32m--> 741\u001b[0m \u001b[38;5;28;01mreturn\u001b[39;00m \u001b[38;5;28;43mself\u001b[39;49m\u001b[38;5;241;43m.\u001b[39;49m\u001b[43mexecute\u001b[49m\u001b[43m(\u001b[49m\u001b[43mCommand\u001b[49m\u001b[38;5;241;43m.\u001b[39;49m\u001b[43mFIND_ELEMENT\u001b[49m\u001b[43m,\u001b[49m\u001b[43m \u001b[49m\u001b[43m{\u001b[49m\u001b[38;5;124;43m\"\u001b[39;49m\u001b[38;5;124;43musing\u001b[39;49m\u001b[38;5;124;43m\"\u001b[39;49m\u001b[43m:\u001b[49m\u001b[43m \u001b[49m\u001b[43mby\u001b[49m\u001b[43m,\u001b[49m\u001b[43m \u001b[49m\u001b[38;5;124;43m\"\u001b[39;49m\u001b[38;5;124;43mvalue\u001b[39;49m\u001b[38;5;124;43m\"\u001b[39;49m\u001b[43m:\u001b[49m\u001b[43m \u001b[49m\u001b[43mvalue\u001b[49m\u001b[43m}\u001b[49m\u001b[43m)\u001b[49m[\u001b[38;5;124m\"\u001b[39m\u001b[38;5;124mvalue\u001b[39m\u001b[38;5;124m\"\u001b[39m]\n",
      "File \u001b[0;32m/opt/homebrew/lib/python3.12/site-packages/selenium/webdriver/remote/webdriver.py:347\u001b[0m, in \u001b[0;36mWebDriver.execute\u001b[0;34m(self, driver_command, params)\u001b[0m\n\u001b[1;32m    345\u001b[0m response \u001b[38;5;241m=\u001b[39m \u001b[38;5;28mself\u001b[39m\u001b[38;5;241m.\u001b[39mcommand_executor\u001b[38;5;241m.\u001b[39mexecute(driver_command, params)\n\u001b[1;32m    346\u001b[0m \u001b[38;5;28;01mif\u001b[39;00m response:\n\u001b[0;32m--> 347\u001b[0m     \u001b[38;5;28;43mself\u001b[39;49m\u001b[38;5;241;43m.\u001b[39;49m\u001b[43merror_handler\u001b[49m\u001b[38;5;241;43m.\u001b[39;49m\u001b[43mcheck_response\u001b[49m\u001b[43m(\u001b[49m\u001b[43mresponse\u001b[49m\u001b[43m)\u001b[49m\n\u001b[1;32m    348\u001b[0m     response[\u001b[38;5;124m\"\u001b[39m\u001b[38;5;124mvalue\u001b[39m\u001b[38;5;124m\"\u001b[39m] \u001b[38;5;241m=\u001b[39m \u001b[38;5;28mself\u001b[39m\u001b[38;5;241m.\u001b[39m_unwrap_value(response\u001b[38;5;241m.\u001b[39mget(\u001b[38;5;124m\"\u001b[39m\u001b[38;5;124mvalue\u001b[39m\u001b[38;5;124m\"\u001b[39m, \u001b[38;5;28;01mNone\u001b[39;00m))\n\u001b[1;32m    349\u001b[0m     \u001b[38;5;28;01mreturn\u001b[39;00m response\n",
      "File \u001b[0;32m/opt/homebrew/lib/python3.12/site-packages/selenium/webdriver/remote/errorhandler.py:229\u001b[0m, in \u001b[0;36mErrorHandler.check_response\u001b[0;34m(self, response)\u001b[0m\n\u001b[1;32m    227\u001b[0m         alert_text \u001b[38;5;241m=\u001b[39m value[\u001b[38;5;124m\"\u001b[39m\u001b[38;5;124malert\u001b[39m\u001b[38;5;124m\"\u001b[39m]\u001b[38;5;241m.\u001b[39mget(\u001b[38;5;124m\"\u001b[39m\u001b[38;5;124mtext\u001b[39m\u001b[38;5;124m\"\u001b[39m)\n\u001b[1;32m    228\u001b[0m     \u001b[38;5;28;01mraise\u001b[39;00m exception_class(message, screen, stacktrace, alert_text)  \u001b[38;5;66;03m# type: ignore[call-arg]  # mypy is not smart enough here\u001b[39;00m\n\u001b[0;32m--> 229\u001b[0m \u001b[38;5;28;01mraise\u001b[39;00m exception_class(message, screen, stacktrace)\n",
      "\u001b[0;31mNoSuchWindowException\u001b[0m: Message: no such window: target window already closed\nfrom unknown error: web view not found\n  (Session info: chrome=125.0.6422.113)\nStacktrace:\n0   chromedriver                        0x00000001047ea4c8 chromedriver + 4302024\n1   chromedriver                        0x00000001047e2e10 chromedriver + 4271632\n2   chromedriver                        0x000000010441419c chromedriver + 278940\n3   chromedriver                        0x00000001043ef474 chromedriver + 128116\n4   chromedriver                        0x000000010447b394 chromedriver + 701332\n5   chromedriver                        0x000000010448e4e4 chromedriver + 779492\n6   chromedriver                        0x000000010444b004 chromedriver + 503812\n7   chromedriver                        0x000000010444b9ec chromedriver + 506348\n8   chromedriver                        0x00000001047b2510 chromedriver + 4072720\n9   chromedriver                        0x00000001047b6fbc chromedriver + 4091836\n10  chromedriver                        0x0000000104799754 chromedriver + 3970900\n11  chromedriver                        0x00000001047b78a4 chromedriver + 4094116\n12  chromedriver                        0x000000010478c6d4 chromedriver + 3917524\n13  chromedriver                        0x00000001047d4b08 chromedriver + 4213512\n14  chromedriver                        0x00000001047d4c84 chromedriver + 4213892\n15  chromedriver                        0x00000001047e2a08 chromedriver + 4270600\n16  libsystem_pthread.dylib             0x000000018d296034 _pthread_start + 136\n17  libsystem_pthread.dylib             0x000000018d290e3c thread_start + 8\n"
     ]
    }
   ],
   "source": [
    "restaurants = []\n",
    "i = 1\n",
    "time.sleep(1)\n",
    "while True:\n",
    "    driver.switch_to.default_content()\n",
    "    iFrame = driver.find_element(By.ID,'searchIframe')\n",
    "    driver.switch_to.frame(iFrame)\n",
    "    currentPage = driver.find_element(By.CLASS_NAME,\"mBN2s.qxokY\").text\n",
    "    try: \n",
    "        restaurant = driver.find_element(By.XPATH,'//*[@id=\"_pcmap_list_scroll_container\"]/ul/li[%d]/div[1]/a/div/div/span[1]'%i)\n",
    "        restaurant.click()\n",
    "        time.sleep(1)\n",
    "        driver.switch_to.default_content()\n",
    "        iFrame = driver.find_element(By.ID,'entryIframe')\n",
    "        driver.switch_to.frame(iFrame)\n",
    "        try:\n",
    "            restaurantImg = driver.find_element(By.CSS_SELECTOR,'#ibu_1')\n",
    "            restaurantImgSrc = restaurantImg.get_attribute('src')\n",
    "        except:\n",
    "            restaurantImgSrc = 'none'\n",
    "        restaurantName = returnText('#_title > div > span.GHAhO')\n",
    "        restaurantTags = returnText('#_title > div > span.lnJFt')\n",
    "        time.sleep(1)\n",
    "        restaurantAddress = returnText('#app-root > div > div > div > div:nth-child(5) > div > div:nth-child(2) > div.place_section_content > div > div.O8qbU.tQY7D > div > a > span.LDgIH')\n",
    "        restaurantCallNumber = returnText('#app-root > div > div > div > div:nth-child(5) > div > div:nth-child(2) > div.place_section_content > div > div.O8qbU.nbXkr > div > span.xlx7Q')\n",
    "        page=driver.find_element(By.CSS_SELECTOR,'html')\n",
    "        driver.execute_script(\"arguments[0].scrollBy(0, 500)\", page)\n",
    "        time.sleep(2)\n",
    "        restaurantMenu1 = returnText('#app-root > div > div > div > div:nth-child(6) > div > div:nth-child(3) > div.place_section_content > ul > li:nth-child(1) > div > div.Fi0vA > div > div > a.place_bluelink.ihmWt')\n",
    "        menu1Price = returnText('#app-root > div > div > div > div:nth-child(6) > div > div:nth-child(3) > div.place_section_content > ul > li:nth-child(1) > div > div.mkBm3 > em')\n",
    "        restaurantMenu2 = returnText('#app-root > div > div > div > div:nth-child(6) > div > div:nth-child(3) > div.place_section_content > ul > li:nth-child(2) > div > div.Fi0vA > div > div > a.place_bluelink.ihmWt')\n",
    "        menu2Price = returnText('#app-root > div > div > div > div:nth-child(6) > div > div:nth-child(3) > div.place_section_content > ul > li:nth-child(2) > div > div.mkBm3 > em')\n",
    "        restaurantMenu3 = returnText('#app-root > div > div > div > div:nth-child(6) > div > div:nth-child(3) > div.place_section_content > ul > li:nth-child(3) > div > div.Fi0vA > div > div > a.place_bluelink.ihmWt')\n",
    "        menu3Price = returnText('#app-root > div > div > div > div:nth-child(6) > div > div:nth-child(3) > div.place_section_content > ul > li:nth-child(3) > div > div.mkBm3 > em')\n",
    "        \n",
    "        restaurants.append({\n",
    "            'name': restaurantName,\n",
    "            'tags': restaurantTags,\n",
    "            'address': restaurantAddress,\n",
    "            'callNumber': restaurantCallNumber,\n",
    "            'imgSrc': restaurantImgSrc,\n",
    "            'menu1' : restaurantMenu1,\n",
    "            'price1' : menu1Price,\n",
    "            'menu2' : restaurantMenu2,\n",
    "            'price2' : menu2Price,\n",
    "            'menu3' : restaurantMenu3,\n",
    "            'price3' : menu3Price,\n",
    "            \n",
    "        })\n",
    "        i+=1\n",
    "    except:\n",
    "        nextButton = driver.find_element(By.XPATH,'//*[@id=\"app-root\"]/div/div[2]/div[2]/a[6]')\n",
    "        nextButton.click()\n",
    "        time.sleep(1)\n",
    "        nextPage = driver.find_element(By.CLASS_NAME,\"mBN2s.qxokY\").text\n",
    "        if nextPage == currentPage: break\n",
    "        restaurantGroup = driver.find_element(By.XPATH,'//*[@id=\"_pcmap_list_scroll_container\"]')\n",
    "        last_height = driver.execute_script(\"return arguments[0].scrollTop;\", restaurantGroup)\n",
    "        while True:\n",
    "            driver.execute_script(\"arguments[0].scrollBy(0, 1000)\", restaurantGroup)\n",
    "            new_height = driver.execute_script(\"return arguments[0].scrollTop;\", restaurantGroup)\n",
    "            if new_height == last_height:\n",
    "                break\n",
    "            last_height = new_height\n",
    "            time.sleep(0.2)\n",
    "        i = 1\n",
    "    print(restaurants[len(restaurants)-1])"
   ]
  },
  {
   "cell_type": "code",
   "execution_count": null,
   "metadata": {},
   "outputs": [
    {
     "ename": "NameError",
     "evalue": "name 'restaurants' is not defined",
     "output_type": "error",
     "traceback": [
      "\u001b[0;31m---------------------------------------------------------------------------\u001b[0m",
      "\u001b[0;31mNameError\u001b[0m                                 Traceback (most recent call last)",
      "Cell \u001b[0;32mIn[3], line 6\u001b[0m\n\u001b[1;32m      4\u001b[0m column \u001b[38;5;241m=\u001b[39m [\u001b[38;5;124m'\u001b[39m\u001b[38;5;124mname\u001b[39m\u001b[38;5;124m'\u001b[39m,\u001b[38;5;124m'\u001b[39m\u001b[38;5;124mtags\u001b[39m\u001b[38;5;124m'\u001b[39m,\u001b[38;5;124m'\u001b[39m\u001b[38;5;124madress\u001b[39m\u001b[38;5;124m'\u001b[39m,\u001b[38;5;124m'\u001b[39m\u001b[38;5;124mcallNumber\u001b[39m\u001b[38;5;124m'\u001b[39m,\u001b[38;5;124m'\u001b[39m\u001b[38;5;124mimgSrc\u001b[39m\u001b[38;5;124m'\u001b[39m,\u001b[38;5;124m'\u001b[39m\u001b[38;5;124mmenu1\u001b[39m\u001b[38;5;124m'\u001b[39m,\u001b[38;5;124m'\u001b[39m\u001b[38;5;124mprice1\u001b[39m\u001b[38;5;124m'\u001b[39m,\u001b[38;5;124m'\u001b[39m\u001b[38;5;124mmenu2\u001b[39m\u001b[38;5;124m'\u001b[39m,\u001b[38;5;124m'\u001b[39m\u001b[38;5;124mprice2\u001b[39m\u001b[38;5;124m'\u001b[39m,\u001b[38;5;124m'\u001b[39m\u001b[38;5;124mmenu3\u001b[39m\u001b[38;5;124m'\u001b[39m,\u001b[38;5;124m'\u001b[39m\u001b[38;5;124mprice3\u001b[39m\u001b[38;5;124m'\u001b[39m]\n\u001b[1;32m      5\u001b[0m ws\u001b[38;5;241m.\u001b[39mappend(column)\n\u001b[0;32m----> 6\u001b[0m \u001b[38;5;28;01mfor\u001b[39;00m i \u001b[38;5;129;01min\u001b[39;00m \u001b[38;5;28mrange\u001b[39m(\u001b[38;5;28mlen\u001b[39m(\u001b[43mrestaurants\u001b[49m)):\n\u001b[1;32m      7\u001b[0m     row \u001b[38;5;241m=\u001b[39m [restaurants[i][\u001b[38;5;124m'\u001b[39m\u001b[38;5;124mname\u001b[39m\u001b[38;5;124m'\u001b[39m],restaurants[i][\u001b[38;5;124m'\u001b[39m\u001b[38;5;124mtags\u001b[39m\u001b[38;5;124m'\u001b[39m],restaurants[i][\u001b[38;5;124m'\u001b[39m\u001b[38;5;124maddress\u001b[39m\u001b[38;5;124m'\u001b[39m],restaurants[i][\u001b[38;5;124m'\u001b[39m\u001b[38;5;124mcallNumber\u001b[39m\u001b[38;5;124m'\u001b[39m],restaurants[i][\u001b[38;5;124m'\u001b[39m\u001b[38;5;124mimgSrc\u001b[39m\u001b[38;5;124m'\u001b[39m],restaurants[i][\u001b[38;5;124m'\u001b[39m\u001b[38;5;124mmenu1\u001b[39m\u001b[38;5;124m'\u001b[39m],restaurants[i][\u001b[38;5;124m'\u001b[39m\u001b[38;5;124mprice1\u001b[39m\u001b[38;5;124m'\u001b[39m],restaurants[i][\u001b[38;5;124m'\u001b[39m\u001b[38;5;124mmenu2\u001b[39m\u001b[38;5;124m'\u001b[39m],restaurants[i][\u001b[38;5;124m'\u001b[39m\u001b[38;5;124mprice2\u001b[39m\u001b[38;5;124m'\u001b[39m],restaurants[i][\u001b[38;5;124m'\u001b[39m\u001b[38;5;124mmenu3\u001b[39m\u001b[38;5;124m'\u001b[39m],restaurants[i][\u001b[38;5;124m'\u001b[39m\u001b[38;5;124mprice3\u001b[39m\u001b[38;5;124m'\u001b[39m]]\n\u001b[1;32m      8\u001b[0m     ws\u001b[38;5;241m.\u001b[39mappend(row)\n",
      "\u001b[0;31mNameError\u001b[0m: name 'restaurants' is not defined"
     ]
    }
   ],
   "source": [
    "wb = Workbook()\n",
    "ws = wb.active\n",
    "ws.title = \"Restaurants\"\n",
    "column = ['name','tags','adress','callNumber','imgSrc','menu1','price1','menu2','price2','menu3','price3']\n",
    "ws.append(column)\n",
    "for i in range(len(restaurants)):\n",
    "    row = [restaurants[i]['name'],restaurants[i]['tags'],restaurants[i]['address'],restaurants[i]['callNumber'],restaurants[i]['imgSrc'],restaurants[i]['menu1'],restaurants[i]['price1'],restaurants[i]['menu2'],restaurants[i]['price2'],restaurants[i]['menu3'],restaurants[i]['price3']]\n",
    "    ws.append(row)\n",
    "wb.save('restaurant list.xlsx')\n",
    "wb.close()"
   ]
  }
 ],
 "metadata": {
  "kernelspec": {
   "display_name": "Python 3.10.7 64-bit",
   "language": "python",
   "name": "python3"
  },
  "language_info": {
   "codemirror_mode": {
    "name": "ipython",
    "version": 3
   },
   "file_extension": ".py",
   "mimetype": "text/x-python",
   "name": "python",
   "nbconvert_exporter": "python",
   "pygments_lexer": "ipython3",
   "version": "3.12.3"
  },
  "orig_nbformat": 4,
  "vscode": {
   "interpreter": {
    "hash": "aee8b7b246df8f9039afb4144a1f6fd8d2ca17a180786b69acc140d282b71a49"
   }
  }
 },
 "nbformat": 4,
 "nbformat_minor": 2
}
